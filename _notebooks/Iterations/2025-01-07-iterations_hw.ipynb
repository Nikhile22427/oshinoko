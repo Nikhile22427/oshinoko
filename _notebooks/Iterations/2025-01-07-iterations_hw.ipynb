{
 "cells": [
  {
   "cell_type": "raw",
   "metadata": {
    "vscode": {
     "languageId": "raw"
    }
   },
   "source": [
    "---\n",
    "comments: True\n",
    "layout: post\n",
    "title: Iteration Homework\n",
    "description: Iterations HW\n",
    "permalink: /csse/javascript/iteration/hw\n",
    "categories: [CSSE JavaScript Fundamentals]\n",
    "author: Andrew Ge, Ishan Shrivastava, Pratheep Natarajan, and Ruhaan Bansal\n",
    "---  "
   ]
  },
  {
   "cell_type": "markdown",
   "metadata": {},
   "source": [
    "### Exercise 1: Multiplication Table\n",
    "##### Write a JavaScript program to print the multiplication table for a given number."
   ]
  },
  {
   "cell_type": "markdown",
   "metadata": {},
   "source": [
    "##### Example:\n",
    "##### Input: 3\n",
    "##### Output:\n",
    "##### 3 x 1 = 3\n",
    "##### 3 x 2 = 6\n",
    "##### ...\n",
    "##### 3 x 10 = 30"
   ]
  },
  {
   "cell_type": "code",
   "execution_count": null,
   "metadata": {
    "vscode": {
     "languageId": "javascript"
    }
   },
   "outputs": [],
   "source": [
    "%%js\n",
    "function multiplicationTable(number) { //function\n",
    "    for (let i = 1; i <= 10; i++) { // iterating numbers from 1 to 10\n",
    "        console.log(`${number} x ${i} = ${number * i}`); //multiplication operation with i and the iterated number above\n",
    "    }\n",
    "}\n",
    "multiplicationTable(3);"
   ]
  },
  {
   "cell_type": "markdown",
   "metadata": {},
   "source": [
    "### Exercise 2: Nested Loops\n",
    "##### Write a JavaScript program using nested loops to generate the following pattern:"
   ]
  },
  {
   "cell_type": "markdown",
   "metadata": {},
   "source": [
    "##### Output:\n",
    "##### 0\n",
    "##### 00\n",
    "##### 000\n",
    "##### 0000\n",
    "##### 00000"
   ]
  },
  {
   "cell_type": "code",
   "execution_count": null,
   "metadata": {
    "vscode": {
     "languageId": "javascript"
    }
   },
   "outputs": [],
   "source": [
    "%%js \n",
    "for (let i = 1; i <= 5; i++) {\n",
    "    let zeroes = \"\"; //defining zeroes\n",
    "    for (let j = 1; j <= i; j++) { // every time this is run it iterates and addes a 0 to zeroes\n",
    "        zeroes += \"0\"; //sets zeroes to new value\n",
    "    }\n",
    "    console.log(zeroes);\n",
    "}"
   ]
  },
  {
   "cell_type": "markdown",
   "metadata": {},
   "source": [
    "### Challenge Exercise: Prime Numbers\n",
    "##### Write a JavaScript program to print all prime numbers between 1 and 50."
   ]
  },
  {
   "cell_type": "code",
   "execution_count": null,
   "metadata": {
    "vscode": {
     "languageId": "javascript"
    }
   },
   "outputs": [],
   "source": [
    "// Function to check if a number is prime\n",
    "function isPrime(num) {\n",
    "    // Numbers less than or equal to 1 are not prime by definition\n",
    "    if (num <= 1) return false;\n",
    "    \n",
    "    // Check for divisibility from 2 up to the square root of the number\n",
    "    // We only need to check up to square root because if a number is divisible by something larger than its square root, it would also be divisible by something smaller than its square root\n",
    "    for (let i = 2; i <= Math.sqrt(num); i++) {\n",
    "        // If the number is divisible by any number in this range, then it's not prime\n",
    "        if (num % i === 0) return false;\n",
    "    }\n",
    "    \n",
    "    // If we haven't found any divisors, the number is prime\n",
    "    return true;\n",
    "}\n",
    "\n",
    "// Loop through numbers from 1 to 50\n",
    "for (let i = 1; i <= 50; i++) {\n",
    "    // For each number, check if it's prime using our isPrime function\n",
    "    if (isPrime(i)) {\n",
    "        // If the number is prime, print it to the console\n",
    "        console.log(i);\n",
    "    }\n",
    "}"
   ]
  },
  {
   "cell_type": "markdown",
   "metadata": {},
   "source": [
    "# End of Homework"
   ]
  }
 ],
 "metadata": {
  "kernelspec": {
   "display_name": "Python 3",
   "language": "python",
   "name": "python3"
  },
  "language_info": {
   "codemirror_mode": {
    "name": "ipython",
    "version": 3
   },
   "file_extension": ".py",
   "mimetype": "text/x-python",
   "name": "python",
   "nbconvert_exporter": "python",
   "pygments_lexer": "ipython3",
   "version": "3.11.9"
  }
 },
 "nbformat": 4,
 "nbformat_minor": 2
}
