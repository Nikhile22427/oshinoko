{
 "cells": [
  {
   "cell_type": "raw",
   "metadata": {
    "vscode": {
     "languageId": "raw"
    }
   },
   "source": [
    "---\n",
    "layout: post\n",
    "title: Homework\n",
    "description:  Homework for classes and methods lessons.\n",
    "type: issues \n",
    "comments: true\n",
    "---"
   ]
  },
  {
   "cell_type": "markdown",
   "metadata": {},
   "source": [
    "## Homework "
   ]
  },
  {
   "cell_type": "markdown",
   "metadata": {},
   "source": [
    "# JavaScript Classes and Methods - Interactive Homework\n",
    "In this notebook, you will learn about classes and methods in JavaScript. After the lesson, complete the tasks by editing the code cells.\n",
    "\n",
    "### What are Classes and Methods?\n",
    "- **Class**: A blueprint for creating objects with properties and methods.\n",
    "- **Method**: A function inside a class that defines an object's behavior.\n",
    "\n"
   ]
  },
  {
   "cell_type": "markdown",
   "metadata": {},
   "source": [
    "## Example: Class for food\n",
    "\n",
    "Below is an example of a JavaScript class for creating different foods. The class has:\n",
    "1. A **constructor** to initialize properties (brand and model).\n",
    "2. Two **methods** (`displayInfo` and `start`) to define behaviors.\n"
   ]
  },
  {
   "cell_type": "code",
   "execution_count": 8,
   "metadata": {
    "vscode": {
     "languageId": "javascript"
    }
   },
   "outputs": [
    {
     "data": {
      "application/javascript": "// Example: A Class for Cars\nclass Car {\n  constructor(brand, model) {\n    this.brand = brand; // Property\n    this.model = model; // Property\n  }\n\n  displayInfo() {\n    console.log(`This car is a ${this.brand} ${this.model}.`);\n  }\n\n  start() {\n    console.log(`${this.brand} ${this.model} is starting...`);\n  }\n}\n\n// Create an instance of the class\nconst myCar = new Car(\"Tesla\", \"Model S\");\nmyCar.displayInfo();\nmyCar.start();\n",
      "text/plain": [
       "<IPython.core.display.Javascript object>"
      ]
     },
     "metadata": {},
     "output_type": "display_data"
    }
   ],
   "source": [
    "%%js\n",
    "// Example: A Class for Cars\n",
    "class Car {\n",
    "  constructor(brand, model) {\n",
    "    this.brand = brand; // Property\n",
    "    this.model = model; // Property\n",
    "  }\n",
    "\n",
    "  displayInfo() {\n",
    "    console.log(`This car is a ${this.brand} ${this.model}.`);\n",
    "  }\n",
    "\n",
    "  start() {\n",
    "    console.log(`${this.brand} ${this.model} is starting...`);\n",
    "  }\n",
    "}\n",
    "\n",
    "// Create an instance of the class\n",
    "const myCar = new Car(\"Tesla\", \"Model S\");\n",
    "myCar.displayInfo();\n",
    "myCar.start();\n"
   ]
  },
  {
   "cell_type": "markdown",
   "metadata": {},
   "source": [
    "<h2>actual hw</h2>"
   ]
  },
  {
   "cell_type": "code",
   "execution_count": null,
   "metadata": {
    "vscode": {
     "languageId": "javascript"
    }
   },
   "outputs": [],
   "source": [
    "%%js\n",
    "class FridgeGame {\n",
    "    constructor() {\n",
    "      // Array of items in the fridge with their scores\n",
    "      this.fridgeItems = [\n",
    "        { name: \"week-old pizza with mysterious fuzzy spots\", score: 2 },\n",
    "        { name: \"fresh avocado that's perfectly ripe\", score: 10 },\n",
    "        { name: \"suspicious milk carton from last month\", score: 1 },\n",
    "        { name: \"leftover spaghetti that might be moving\", score: 3 },\n",
    "        { name: \"chocolate cake hidden behind the vegetables\", score: 9 },\n",
    "        { name: \"container of grandma's homemade cookies\", score: 10 },\n",
    "        { name: \"takeout box with unknown contents\", score: 4 },\n",
    "        { name: \"half-eaten sandwich wrapped in foil\", score: 5 },\n",
    "        { name: \"yogurt that expired yesterday\", score: 3 },\n",
    "        { name: \"slice of cheese that's more blue than yellow\", score: 1 }\n",
    "      ];\n",
    "    }\n",
    "  \n",
    "    // Method to pick a random item from the fridge\n",
    "    grabItem() {\n",
    "      const randomIndex = Math.floor(Math.random() * this.fridgeItems.length);\n",
    "      return this.fridgeItems[randomIndex];\n",
    "    }\n",
    "  \n",
    "    // Method to classify the find based on its score\n",
    "    classifyFind(score) {\n",
    "      if (score >= 8) {\n",
    "        return \"a fantastic find! Jackpot!\";\n",
    "      } else if (score >= 5) {\n",
    "        return \"meh, it'll do\";\n",
    "      } else {\n",
    "        return \"probably better to order takeout...\";\n",
    "      }\n",
    "    }\n",
    "  \n",
    "    // Method to start the game\n",
    "    play() {\n",
    "      console.log(\"Opening the fridge... what will you find?\");\n",
    "      const item = this.grabItem();\n",
    "      console.log(`You found: ${item.name}!`);\n",
    "      const feedback = this.classifyFind(item.score);\n",
    "      console.log(`It is ${feedback} Score: ${item.score}/10`);\n",
    "    }\n",
    "  }\n",
    "  \n",
    "  // Create an instance of the game\n",
    "  const fridgeGame = new FridgeGame();\n",
    "  \n",
    "  // Start the game\n",
    "  fridgeGame.play();"
   ]
  }
 ],
 "metadata": {
  "kernelspec": {
   "display_name": "Python 3",
   "language": "python",
   "name": "python3"
  },
  "language_info": {
   "codemirror_mode": {
    "name": "ipython",
    "version": 3
   },
   "file_extension": ".py",
   "mimetype": "text/x-python",
   "name": "python",
   "nbconvert_exporter": "python",
   "pygments_lexer": "ipython3",
   "version": "3.9.6"
  }
 },
 "nbformat": 4,
 "nbformat_minor": 2
}
