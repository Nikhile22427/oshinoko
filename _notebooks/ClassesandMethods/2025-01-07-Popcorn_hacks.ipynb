{
 "cells": [
  {
   "cell_type": "raw",
   "metadata": {
    "vscode": {
     "languageId": "raw"
    }
   },
   "source": [
    "---\n",
    "layout: post\n",
    "title: Popcorn Hacks\n",
    "description:  Popcorn Hacks for lessons.\n",
    "type: issues \n",
    "comments: true\n",
    "permalink: /csse/javascript/candm/pophax\n",
    "---"
   ]
  },
  {
   "cell_type": "markdown",
   "metadata": {},
   "source": [
    "# JavaScript Classes and Methods - Interactive Popcorns \n",
    "In this notebook, you will learn about classes and methods in JavaScript. During the lesson, use these to enhance your understanding of clases and methods\n",
    "### \n",
    "- **Objectivs**: Do something - Change Later\n",
    "- **How**:\n",
    "\n"
   ]
  },
  {
   "cell_type": "code",
   "execution_count": null,
   "metadata": {
    "vscode": {
     "languageId": "javascript"
    }
   },
   "outputs": [],
   "source": [
    "<html lang=\"en\">\n",
    "<head>\n",
    "  <meta charset=\"UTF-8\">\n",
    "  <meta name=\"viewport\" content=\"width=device-width, initial-scale=1.0\">\n",
    "  <title>Popcorn Hack</title>\n",
    "  <style>\n",
    "    body {\n",
    "      margin: 0;\n",
    "      padding: 0;\n",
    "      overflow: auto; /* Enable scrolling */\n",
    "      font-family: Arial, sans-serif;\n",
    "      background: #ffffff; /* Popcorn vibe! */\n",
    "    }\n",
    "\n",
    "    #startButton {\n",
    "      position: fixed;\n",
    "      bottom: 20px;\n",
    "      left: 50%;\n",
    "      transform: translateX(-50%);\n",
    "      padding: 10px 20px;\n",
    "      font-size: 18px;\n",
    "      background: #ffffff;\n",
    "      color: #000;\n",
    "      border: none;\n",
    "      border-radius: 5px;\n",
    "      cursor: pointer;\n",
    "      box-shadow: 0px 4px 6px rgba(0, 0, 0, 0.2);\n",
    "    }\n",
    "\n",
    "    #startButton:hover {\n",
    "      background: #e8a400;\n",
    "    }\n",
    "\n",
    "    .kernel {\n",
    "      position: absolute;\n",
    "      width: 20px;\n",
    "      height: 20px;\n",
    "      background: #fff;\n",
    "      border-radius: 50%;\n",
    "      box-shadow: 0 2px 5px rgba(0, 0, 0, 0.2);\n",
    "      animation: pop 1.5s ease-in-out forwards;\n",
    "    }\n",
    "\n",
    "    @keyframes pop {\n",
    "      0% {\n",
    "        transform: scale(0.5) translateY(0);\n",
    "        opacity: 1;\n",
    "      }\n",
    "      50% {\n",
    "        transform: scale(1.2) translateY(-150px);\n",
    "      }\n",
    "      100% {\n",
    "        transform: scale(1) translateY(300px);\n",
    "        opacity: 0;\n",
    "      }\n",
    "    }\n",
    "  </style>\n",
    "</head>\n",
    "<body>\n",
    "\n",
    "  <button id=\"startButton\">Start Popping!</button>\n",
    "\n",
    "  <script>\n",
    "    function createKernel() {\n",
    "      // Create a new popcorn kernel\n",
    "      const kernel = document.createElement(\"div\");\n",
    "      kernel.classList.add(\"kernel\");\n",
    "\n",
    "      // Randomize its position\n",
    "      kernel.style.left = Math.random() * window.innerWidth + \"px\";\n",
    "      kernel.style.top = Math.random() * (window.innerHeight / 2) + \"px\";\n",
    "\n",
    "      // Add the kernel to the body\n",
    "      document.body.appendChild(kernel);\n",
    "\n",
    "      // Remove the kernel after animation ends\n",
    "      setTimeout(() => kernel.remove(), 1500);\n",
    "    }\n",
    "\n",
    "    function startPopping() {\n",
    "      let popCount = 0;\n",
    "      const interval = setInterval(() => {\n",
    "        createKernel(); // Create a popcorn kernel\n",
    "        popCount++;\n",
    "        if (popCount > 30) clearInterval(interval); // Stop after 30 kernels\n",
    "      }, 200);\n",
    "    }\n",
    "\n",
    "    // Attach the event to the button\n",
    "    document.getElementById(\"startButton\").addEventListener(\"click\", startPopping);\n",
    "  </script>\n",
    "</body>\n",
    "</html>\n"
   ]
  },
  {
   "cell_type": "markdown",
   "metadata": {},
   "source": [
    "<h2>Exercise 1</h2>"
   ]
  },
  {
   "cell_type": "code",
   "execution_count": 6,
   "metadata": {
    "vscode": {
     "languageId": "javascript"
    }
   },
   "outputs": [
    {
     "data": {
      "application/javascript": "class Rectangle {\n    constructor(dimensionx, dimensiony) {\n        this.dimensionx = dimensionx\n        this.dimensiony = dimensiony\n    }\n\n    tellDimension() {\n        console.log(`the dimensions are ${this.dimensionx}, ${this.dimensiony}`)\n    } \n}\nlet fridge = new Rectangle(10, 5)\nfridge.tellDimension()\n",
      "text/plain": [
       "<IPython.core.display.Javascript object>"
      ]
     },
     "metadata": {},
     "output_type": "display_data"
    }
   ],
   "source": [
    "%%js\n",
    "class Rectangle {\n",
    "    constructor(dimensionx, dimensiony) {\n",
    "        this.dimensionx = dimensionx\n",
    "        this.dimensiony = dimensiony\n",
    "    }\n",
    "\n",
    "    tellDimension() {\n",
    "        console.log(`the dimensions are ${this.dimensionx}, ${this.dimensiony}`)\n",
    "    } \n",
    "}\n",
    "let fridge = new Rectangle(10, 5)\n",
    "fridge.tellDimension()"
   ]
  },
  {
   "cell_type": "markdown",
   "metadata": {},
   "source": [
    "<h2>Exercise 2</h2>"
   ]
  },
  {
   "cell_type": "code",
   "execution_count": 14,
   "metadata": {
    "vscode": {
     "languageId": "javascript"
    }
   },
   "outputs": [
    {
     "data": {
      "application/javascript": "class Rectangle {\n    constructor(dimensionx, dimensiony) {\n        this.dimensionx = dimensionx\n        this.dimensiony = dimensiony\n    }\n\n    tellDimension() {\n        console.log(`the dimensions are ${this.dimensionx}, ${this.dimensiony}`)\n    }\n    tellArea() {\n        console.log(this.dimensionx *= this.dimensiony)\n        \n    } \n}\nlet rectangle = new Rectangle(20, 40)\nrectangle.tellArea()\nrectangle.dimensionx = 20\nrectangle.dimensiony = 10\nrectangle.tellArea()\n",
      "text/plain": [
       "<IPython.core.display.Javascript object>"
      ]
     },
     "metadata": {},
     "output_type": "display_data"
    }
   ],
   "source": [
    "%%js\n",
    "class Rectangle {\n",
    "    constructor(dimensionx, dimensiony) {\n",
    "        this.dimensionx = dimensionx\n",
    "        this.dimensiony = dimensiony\n",
    "    }\n",
    "\n",
    "    tellDimension() {\n",
    "        console.log(`the dimensions are ${this.dimensionx}, ${this.dimensiony}`)\n",
    "    }\n",
    "    tellArea() {\n",
    "        console.log(this.dimensionx *= this.dimensiony)\n",
    "        \n",
    "    } \n",
    "}\n",
    "let rectangle = new Rectangle(20, 40)\n",
    "rectangle.dimensionx = 20\n",
    "rectangle.dimensiony = 10\n",
    "rectangle.tellArea()"
   ]
  },
  {
   "cell_type": "markdown",
   "metadata": {},
   "source": [
    "<h2>Exercise 3</h2>"
   ]
  },
  {
   "cell_type": "code",
   "execution_count": null,
   "metadata": {
    "vscode": {
     "languageId": "javascript"
    }
   },
   "outputs": [],
   "source": [
    "class Rectangle {\n",
    "    constructor(dimensionx, dimensiony) {\n",
    "        this.dimensionx = dimensionx\n",
    "        this.dimensiony = dimensiony\n",
    "    }\n",
    "\n",
    "    tellDimension() {\n",
    "        console.log(`the dimensions are ${this.dimensionx}, ${this.dimensiony}`)\n",
    "    }\n",
    "    tellArea() {\n",
    "        console.log(this.dimensionx *= this.dimensiony)\n",
    "        \n",
    "    } \n",
    "}\n",
    "let rect1 = new Rectangle(6, 8);\n",
    "console.log(rect1.tellArea()); \n",
    "let rect2 = new Rectangle(12, 4);\n",
    "console.log(rect2.tellArea()); "
   ]
  },
  {
   "cell_type": "markdown",
   "metadata": {},
   "source": [
    "<h2>Exercise 4</h2>"
   ]
  },
  {
   "cell_type": "code",
   "execution_count": null,
   "metadata": {
    "vscode": {
     "languageId": "javascript"
    }
   },
   "outputs": [],
   "source": [
    "class Rectangle {\n",
    "    constructor(dimensionx, dimensiony) {\n",
    "        this.dimensionx = dimensionx\n",
    "        this.dimensiony = dimensiony\n",
    "    }\n",
    "\n",
    "    tellDimension() {\n",
    "        console.log(`the dimensions are ${this.dimensionx}, ${this.dimensiony}`)\n",
    "    }\n",
    "    tellArea() {\n",
    "        console.log(this.dimensionx *= this.dimensiony)\n",
    "    }\n",
    "    getPerimeter() {\n",
    "        return 2 * (this.width + this.height); // Perimeter formula: 2 * (width + height)\n",
    "    } \n",
    "}\n",
    "const rect = new Rectangle(10, 5);\n",
    "console.log(rect.getPerimeter())"
   ]
  },
  {
   "cell_type": "markdown",
   "metadata": {},
   "source": [
    "<h2>Exercise 5</h2>"
   ]
  },
  {
   "cell_type": "code",
   "execution_count": null,
   "metadata": {
    "vscode": {
     "languageId": "javascript"
    }
   },
   "outputs": [],
   "source": [
    "%%js\n",
    "class Square {\n",
    "    constructor(sideLength) {\n",
    "        this.sideLength = sideLength;\n",
    "    }\n",
    "\n",
    "    getDiagonal() {\n",
    "        return Number((this.sideLength * Math.sqrt(2)).toFixed(2));\n",
    "    }\n",
    "}\n",
    "\n",
    "// Test the class\n",
    "const square = new Square(5);\n",
    "console.log(square.getDiagonal());"
   ]
  }
 ],
 "metadata": {
  "kernelspec": {
   "display_name": "venv",
   "language": "python",
   "name": "python3"
  },
  "language_info": {
   "codemirror_mode": {
    "name": "ipython",
    "version": 3
   },
   "file_extension": ".py",
   "mimetype": "text/x-python",
   "name": "python",
   "nbconvert_exporter": "python",
   "pygments_lexer": "ipython3",
   "version": "3.13.0"
  }
 },
 "nbformat": 4,
 "nbformat_minor": 2
}
