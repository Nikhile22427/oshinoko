{
 "cells": [
  {
   "cell_type": "raw",
   "metadata": {
    "vscode": {
     "languageId": "raw"
    }
   },
   "source": [
    "---\n",
    "layout: post\n",
    "title: Retrospective\n",
    "description: CSSE 1 Retrospective final\n",
    "type: collab\n",
    "comments: True\n",
    "permalink: /csse/final/retrospective\n",
    "---"
   ]
  },
  {
   "cell_type": "markdown",
   "metadata": {},
   "source": [
    "<h1>CSSE Final Retrospective</h1>"
   ]
  },
  {
   "cell_type": "markdown",
   "metadata": {},
   "source": [
    "> Hi there! this Retrospective will go over 5 things I learned, My RPG tinkers and writeup (link to that blog page), the feedback I recieved at N@TM, and then finally other projects I found interesting. Happy reading!\n",
    "\n"
   ]
  },
  {
   "cell_type": "markdown",
   "metadata": {},
   "source": [
    "<h2>5 things I learned</h2>"
   ]
  },
  {
   "cell_type": "markdown",
   "metadata": {},
   "source": [
    "<h4>How to use github</h4>"
   ]
  },
  {
   "cell_type": "markdown",
   "metadata": {},
   "source": [
    "Before I started CSSE 1, Github was like a page in a foreign language. What was a pull request? What was a commit? Why are there folders on the front page? How do I download what I want? These were a fraction of the questions floating around in my head when I ventured onto this scary site.\n",
    "\n",
    "As we started making our personal blogs I slowly learned that Github isn't a page of hieroglyphics, its a surprisingly simple and really useful tool for controlling and organizing projects. I can confidently say that I know how to commit, make pull requests, make an issue for a burndown list, and know about 80% of how fastpages works.\n",
    "\n"
   ]
  },
  {
   "cell_type": "markdown",
   "metadata": {},
   "source": [
    "<h4>Javascript usage</h4>"
   ]
  },
  {
   "cell_type": "markdown",
   "metadata": {},
   "source": [
    "When we were making our group lessons in this class, I learned more about variables and logic through javascript that are essential in our current game project. I think that learning javascript was a fun deep dive that we did and I hope we also do this for python sometime in the future.\n",
    "\n",
    "As we were making our game I also learned about objects, classes, constructors, canvases, etc... Basically the workings of a game. It's quite interesting but also really complicated"
   ]
  },
  {
   "cell_type": "markdown",
   "metadata": {},
   "source": [
    "<h4>Jupyter Notebooks</h4>"
   ]
  },
  {
   "cell_type": "markdown",
   "metadata": {},
   "source": [
    "Now that I know what Jupyter Notebooks are, I have realized that they are an essential part of blogging, teaching, or documentation for code due to the fact that you can easily integrate code cells that are runnable on your computer or on a service like Google Colab."
   ]
  },
  {
   "cell_type": "markdown",
   "metadata": {},
   "source": [
    "<h4>Installing tools</h4>"
   ]
  },
  {
   "cell_type": "markdown",
   "metadata": {},
   "source": [
    "While I already had a basic understanding on how to use pip, the package manager, I learned that you can make requirements.txt files that have a list of all the required packages and use that to install everything instead of doing it one-by-one. What a time saver!"
   ]
  },
  {
   "cell_type": "markdown",
   "metadata": {},
   "source": [
    "<h4>Group development strategies and organization methods</h4>"
   ]
  },
  {
   "cell_type": "markdown",
   "metadata": {},
   "source": [
    "through our projects I learned the basics of the Scrum development cycle (fun fact, my mom is certified in scrum apparently). I also learned about burndown lists and using issues on github repositories to easily track things that you need to do. I think this is an important thing that I will continue to use in my future projects."
   ]
  },
  {
   "cell_type": "markdown",
   "metadata": {},
   "source": [
    "<h5>5 key items grade</h5>\n",
    "while I did learn quite a bit, in some areas like javascript it really feels like I'm wading around in the dark. However, I am still putting effort in to learn.    \n",
    "\n",
    "> 0.91/1"
   ]
  },
  {
   "cell_type": "markdown",
   "metadata": {},
   "source": [
    "<h2>RPG Game</h2>"
   ]
  },
  {
   "cell_type": "markdown",
   "metadata": {},
   "source": [
    "<h4>Tinkers</h4>"
   ]
  },
  {
   "cell_type": "markdown",
   "metadata": {},
   "source": [
    "- Added items that can be picked up (also an inventory system half-borrowed from Andrew)\n",
    "- Added keyslots (a type of object where we can \"deposit\" our picked up keys)\n",
    "- Added a victory screen (trying to add buttons that link to minigames)\n",
    "- Added collision to trees and major objects that you shouldn't be able to walk through (Using invisible NPC's)"
   ]
  },
  {
   "cell_type": "markdown",
   "metadata": {},
   "source": [
    "<h5>RPG Tinkers Grade</h5>\n",
    "We went beyond just changing the backround and npc's and added new things like inaccessible parts of the map and items.\n",
    "\n",
    "> 0.93/1"
   ]
  },
  {
   "cell_type": "markdown",
   "metadata": {},
   "source": [
    "<h4>Feedback</h4>"
   ]
  },
  {
   "cell_type": "markdown",
   "metadata": {},
   "source": [
    "At N@TM, we showed our game to people and recieved 6 pieces of feedback.\n"
   ]
  },
  {
   "cell_type": "markdown",
   "metadata": {},
   "source": [
    "To summarize, They liked the concept but wished we could complete all features as a lot of them were still in progress. They also said that it would be nice if we had more things to do in the game, or another level. Additionally, we had one feature that only showed in the console that we need to try and show ingame."
   ]
  },
  {
   "cell_type": "markdown",
   "metadata": {},
   "source": [
    "<h5>RPG feedback Grade</h5>\n",
    "I think we got a decent amount of feedback and then we were able to implement/fix the things they asked for \n",
    "\n",
    "> 0.92/1 <br> \n"
   ]
  },
  {
   "cell_type": "markdown",
   "metadata": {},
   "source": [
    "<h4>RPG Write-up</h4>"
   ]
  },
  {
   "cell_type": "markdown",
   "metadata": {},
   "source": [
    "insert link when u get it\n"
   ]
  },
  {
   "cell_type": "markdown",
   "metadata": {},
   "source": [
    "<h5>RPG Writeup Grade</h5>\n",
    "\n",
    "> 0.91/1"
   ]
  },
  {
   "cell_type": "markdown",
   "metadata": {},
   "source": [
    "<h2>THE 5th POINT</h2>\n",
    "dun dun dun..."
   ]
  },
  {
   "cell_type": "markdown",
   "metadata": {},
   "source": [
    "<h3>Projects I found interesting</h3>"
   ]
  },
  {
   "cell_type": "markdown",
   "metadata": {},
   "source": [
    "Aesthetihawk\n",
    "- I think it's cool how they did customization and how easily it integrades into websites\n",
    "\n",
    "Not sure of the project's name\n",
    "- Tracks check-ins at hospitals and organizes injuries\n",
    "- I think it's cool how they can gather all that information in real-time "
   ]
  },
  {
   "cell_type": "markdown",
   "metadata": {},
   "source": [
    "> 0.93/1"
   ]
  },
  {
   "cell_type": "markdown",
   "metadata": {},
   "source": [
    "<h3>Future Plans</h3>\n",
    "While I am not sure If I want to pursue computer science as a career, I do know that I will make more projects outside of school because I find it interesting. I think I will go more into the computer vision area because that's what I find the most interesting."
   ]
  },
  {
   "cell_type": "markdown",
   "metadata": {},
   "source": [
    "<h3>Final grade</h3>\n",
    "\n",
    "I think that I would give myself a 4.6/5 because I have satisfied all the Final's conditions and I am putting in effort to learn and have shown results in my snake and RPG game. I also am able to use GitHub effectively and collaborate well to finish projects."
   ]
  },
  {
   "cell_type": "markdown",
   "metadata": {},
   "source": [
    "<h2>proof I was at N@TM</h2>\n",
    "<img src=\"/Users/nikhil/oshinoko/images/5A5D52F6-9B35-4453-A837-EF4C2463CBE7_1_102_o.jpeg\" width=\"540\">"
   ]
  }
 ],
 "metadata": {
  "language_info": {
   "name": "python"
  }
 },
 "nbformat": 4,
 "nbformat_minor": 2
}
