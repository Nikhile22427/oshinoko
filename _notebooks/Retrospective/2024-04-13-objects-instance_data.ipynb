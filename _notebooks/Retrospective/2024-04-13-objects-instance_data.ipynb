{
 "cells": [
  {
   "cell_type": "raw",
   "metadata": {
    "vscode": {
     "languageId": "raw"
    }
   },
   "source": [
    "---\n",
    "toc: true\n",
    "comments: true\n",
    "layout: post\n",
    "title: Objects, Instance Data\n",
    "description: Objects in JavaScript are a fundamental data type. Each Game Object, in the game, is a collections of instance data and methods. JavaScript Objects are used to store the states of a Game Objects.\n",
    "courses: { csse: {week: 19} }\n",
    "type: ccc\n",
    "---"
   ]
  },
  {
   "cell_type": "markdown",
   "metadata": {
    "vscode": {
     "languageId": "raw"
    }
   },
   "source": [
    "## Properties and Methods\n",
    "\n",
    "- **Properties**: These are the values associated with a JavaScript object. A JavaScript object is a collection of unordered properties. Properties can usually be changed, added, and deleted.\n",
    "\n",
    "- **Methods**: These are actions that can be performed on objects. A method is a property that contains a function definition.\n",
    "\n",
    "For example, consider an object representing a player in a game:\n",
    "\n",
    "```javascript\n",
    "const player = {\n",
    "    name: \"John\",\n",
    "    health: 100,\n",
    "    fullName: function() {\n",
    "        return this.name + \" the Brave\";\n",
    "    },\n",
    "    attack: function() {\n",
    "        this.health -= 1;\n",
    "        return this.name + \" health is \" + this.health;\n",
    "    }\n",
    "};\n",
    "```\n",
    "\n",
    "In this example, name, and health are properties, while fullName and attack are methods.\n",
    "\n",
    "## How to Access Properties and Methods\n",
    "\n",
    "Properties and methods of an object can be accessed using ***dot notation*** or ***bracket notation***.\n",
    "\n",
    "### Dot notation\n",
    "\n",
    "```javascript\n",
    "// Property\n",
    "objectName.propertyName \n",
    "// Method\n",
    "objectName.methodName()\n",
    "```\n",
    "\n",
    "### Bracket notation\n",
    "\n",
    "```javascript\n",
    "// Property\n",
    "objectName[\"propertyName\"]\n",
    "// Method\n",
    "objectName[\"methodName\"]()\n",
    "```\n",
    "\n",
    "### Example using person object\n",
    "\n",
    "```javascript\n",
    "// To access the firstName property of the person object\n",
    "// Dot Notation Property\n",
    "player.firstName\n",
    "// Bracket Notation Property\n",
    "player[\"firstName\"]\n",
    "// Dot Notation Method\n",
    "player.fullName()\n",
    "// Bracket Notation Method\n",
    "player[\"fullName\"]()\n",
    "```\n",
    "\n",
    "### Object Summary\n",
    "Understanding objects is crucial for understanding JavaScript, and they are used extensively in all the code we will be looking at."
   ]
  },
  {
   "cell_type": "code",
   "execution_count": 12,
   "metadata": {
    "vscode": {
     "languageId": "javascript"
    }
   },
   "outputs": [
    {
     "data": {
      "application/javascript": "\n/*\n * Simple object or Object Literal\n *  - properties: name, health\n *  - methods: fullName, attack\n */\n\n// JavaScript simple object creation\nconst player = {\n    name: \"John\",\n    health: 100,\n    fullName: function() {\n        return this.name + \" the Brave\";\n    },\n    attack: function() {\n        this.health -= 1;\n        return this.name + \"\\'s\" + \" health is \" + this.health;\n    }\n};\n\n// Convert the output to HTML\nfunction toHTML(output) {\n    return `\n        <p>${output}</p>\n    `;\n}\n\n// Jupyter notebook cell output\nfunction print(output) {\n    element.append(toHTML(output));\n}\n\n// Output the properties of the object\nprint(player.name);\nprint(player.health);\n\n// Output the return value of the methods \nprint(player.fullName());\nprint(player.attack());\n",
      "text/plain": [
       "<IPython.core.display.Javascript object>"
      ]
     },
     "metadata": {},
     "output_type": "display_data"
    }
   ],
   "source": [
    "%%javascript\n",
    "\n",
    "/*\n",
    " * Simple object or Object Literal\n",
    " *  - properties: name, health\n",
    " *  - methods: fullName, attack\n",
    " */\n",
    "\n",
    "// JavaScript simple object creation\n",
    "const player = {\n",
    "    name: \"John\",\n",
    "    health: 100,\n",
    "    fullName: function() {\n",
    "        return this.name + \" the Brave\";\n",
    "    },\n",
    "    attack: function() {\n",
    "        this.health -= 1;\n",
    "        return this.name + \"\\'s\" + \" health is \" + this.health;\n",
    "    }\n",
    "};\n",
    "\n",
    "// Convert the output to HTML\n",
    "function toHTML(output) {\n",
    "    return `\n",
    "        <p>${output}</p>\n",
    "    `;\n",
    "}\n",
    "\n",
    "// Jupyter notebook cell output\n",
    "function print(output) {\n",
    "    element.append(toHTML(output));\n",
    "}\n",
    "\n",
    "// Output the properties of the object\n",
    "print(player.name);\n",
    "print(player.health);\n",
    "\n",
    "// Output the return value of the methods \n",
    "print(player.fullName());\n",
    "print(player.attack());"
   ]
  },
  {
   "cell_type": "markdown",
   "metadata": {},
   "source": [
    "## Transition to Class-Based Structures\n",
    "As we advance, we will transition from using object literals to class-based structures, which provide a more organized and scalable way to define objects, similar to Java. A class-based data structure will help us write more organized and maintainable code, especially as we develop more complex game features.\n",
    "\n",
    "A class in JavaScript is defined using the **class keyword**. \n",
    "- **Properties** are defined within the constructor\n",
    "- **Methods** are defined as functions within the class.\n",
    "\n",
    "### class Player\n",
    "Using a classic Java-like **class** definition, we can encapsulate JavaScript objects. The **player object** created below contains properties and methods for a player in our Platformer game. The `this.state` data structure is used to hold many of the player's properties as it interacts in the game.\n",
    "\n",
    "This is the code that creates an object:\n",
    "\n",
    "```javascript\n",
    "let player = new Player();\n",
    "```\n",
    "\n",
    "### Setting data\n",
    "\n",
    "Property data can be set and accessed using dot notation:\n",
    "\n",
    "```javascript\n",
    "player.state.collision = 'wall';  // string type\n",
    "player.state.movement = {up: false, down: false, left: true, right: false, falling: false}; // object data type\n",
    "```\n",
    "\n",
    "## Player sample\n",
    "\n",
    "In the Player code cell below, we highlight some features of managing **player** properties."
   ]
  },
  {
   "cell_type": "code",
   "execution_count": 13,
   "metadata": {
    "vscode": {
     "languageId": "javascript"
    }
   },
   "outputs": [
    {
     "data": {
      "application/javascript": "\nclass Player {\n    /**\n     * Initial environment of the player.\n     * @property {string} collision - Name of the current object the player is interacting with (e.g., 'floor', 'wall', 'platform').\n     * @property {Array} collisions -  An array that holds a collection of player collisions.\n     * @property {string} animation - Name of the current animation state of the player (e.g., 'idle', 'walk', 'run', 'jump').\n     * @property {string} direction - The direction the player is facing (e.g., 'left', 'right').\n     * @property {Object} movement - The directions in which the player can move.\n     * @property {boolean} movement.up - Whether the player can move up.\n     * @property {boolean} movement.down - Whether the player can move down.\n     * @property {boolean} movement.left - Whether the player can move left.\n     * @property {boolean} movement.right - Whether the player can move right.\n     * @property {boolean} movement.falling - Whether the player is falling.\n     * @property {boolean} isDying - Whether the player is dying.\n     */\n\n    // This object represents the initial state of the player when the game starts.\n    initEnvironmentState = {\n        // environment\n        collision: 'none',\n        collisions: [],\n        // player\n        animation: 'idle',\n        direction: 'right',\n        movement: {up: false, down: false, left: true, right: true, falling: false},\n        isDying: false,\n    };\n\n    /** GameObject: Constructor for Player object\n     */\n    constructor() {      \n        this.state = {...this.initEnvironmentState}; // Player and environment states \n    }\n\n\n    /**\n     * Adds a collision to the history and updates the current collision.\n     * @param {string} collision - The new collision to add.\n     */\n    pushCollision(collision) {\n        this.state.collisions.push(collision);\n        this.state.collision = collision;\n    }\n\n    /**\n     * Pops the last collision from the history and updates the current collision.\n     * If the collision stack is empty, the current collision is set to 'none'.\n     */\n    popCollision() {\n        this.state.collisions.pop();\n        this.state.collision = this.state.collisions[this.state.collisions.length - 1] || 'none';\n    }\n\n    /**\n     * Returns a formatted HTML string representing the player's state.\n     * Primary purpose is to display the state in a Jupyter notebook.\n     * @returns {string} - The formatted state HTML string.\n     */\n        toHTML() {\n            let collisions = (this.state.collisions.length > 0) ? this.state.collisions.slice().reverse().map((collision, index) => `  ${collision}`).join(', ')  : 'none';\n            return `\n            <div>\n                <strong>Collision Stack:</strong> ${collisions}\n                <br>\n                <strong>Player State:</strong>\n                <ul>\n                    <li>Collision: ${this.state.collision}</li>\n                    <li>Animation: ${this.state.animation}</li>\n                    <li>Direction: ${this.state.direction}</li>\n                    <li>Movement:\n                        <ul>\n                            <li>Up: ${this.state.movement.up}</li>\n                            <li>Down: ${this.state.movement.down}</li>\n                            <li>Left: ${this.state.movement.left}</li>\n                            <li>Right: ${this.state.movement.right}</li>\n                            <li>Falling: ${this.state.movement.falling}</li>\n                        </ul>\n                    </li>\n                    <li>Is Dying: ${this.state.isDying}</li>\n                </ul>\n            </div>\n            `;\n        }\n\n}\n\n// Example usage\nconst player = new Player();\n\n// Initial state\n// Jupyter JavaScript magic element is used to display the output, versus normal DOM\nelement.append(\"Initial instance data for a player:\");\nelement.append(player.toHTML());\n\n// Simulate Wall collision\nplayer.pushCollision('wall');\nplayer.state.movement = {up: false, down: false, left: true, right: false, falling: false};\nelement.append(\"Wall collision simulation:\");\nelement.append(player.toHTML());\n\n// Simulate JumpPlatform collision\nplayer.pushCollision('jumpPlatform');\nplayer.state.movement = {up: false, down: false, left: true, right: true, falling: false};\nelement.append(\"JumpPlatform collision simulation:\");\nelement.append(player.toHTML());\n\n// Pop back to the previous collision\nplayer.popCollision();\nelement.append(\"Pop back to the previous collision (back 1):\");\nelement.append(player.toHTML());\n\n// Pop back again to the previous collision\nplayer.popCollision();\nelement.append(\"Pop back to the previous collision (back 2):\");\nelement.append(player.toHTML());\n",
      "text/plain": [
       "<IPython.core.display.Javascript object>"
      ]
     },
     "metadata": {},
     "output_type": "display_data"
    }
   ],
   "source": [
    "%%javascript\n",
    "\n",
    "class Player {\n",
    "    /**\n",
    "     * Initial environment of the player.\n",
    "     * @property {string} collision - Name of the current object the player is interacting with (e.g., 'floor', 'wall', 'platform').\n",
    "     * @property {Array} collisions -  An array that holds a collection of player collisions.\n",
    "     * @property {string} animation - Name of the current animation state of the player (e.g., 'idle', 'walk', 'run', 'jump').\n",
    "     * @property {string} direction - The direction the player is facing (e.g., 'left', 'right').\n",
    "     * @property {Object} movement - The directions in which the player can move.\n",
    "     * @property {boolean} movement.up - Whether the player can move up.\n",
    "     * @property {boolean} movement.down - Whether the player can move down.\n",
    "     * @property {boolean} movement.left - Whether the player can move left.\n",
    "     * @property {boolean} movement.right - Whether the player can move right.\n",
    "     * @property {boolean} movement.falling - Whether the player is falling.\n",
    "     * @property {boolean} isDying - Whether the player is dying.\n",
    "     */\n",
    "\n",
    "    // This object represents the initial state of the player when the game starts.\n",
    "    initEnvironmentState = {\n",
    "        // environment\n",
    "        collision: 'none',\n",
    "        collisions: [],\n",
    "        // player\n",
    "        animation: 'idle',\n",
    "        direction: 'right',\n",
    "        movement: {up: false, down: false, left: true, right: true, falling: false},\n",
    "        isDying: false,\n",
    "    };\n",
    "\n",
    "    /** GameObject: Constructor for Player object\n",
    "     */\n",
    "    constructor() {      \n",
    "        this.state = {...this.initEnvironmentState}; // Player and environment states \n",
    "    }\n",
    "\n",
    "\n",
    "    /**\n",
    "     * Adds a collision to the history and updates the current collision.\n",
    "     * @param {string} collision - The new collision to add.\n",
    "     */\n",
    "    pushCollision(collision) {\n",
    "        this.state.collisions.push(collision);\n",
    "        this.state.collision = collision;\n",
    "    }\n",
    "\n",
    "    /**\n",
    "     * Pops the last collision from the history and updates the current collision.\n",
    "     * If the collision stack is empty, the current collision is set to 'none'.\n",
    "     */\n",
    "    popCollision() {\n",
    "        this.state.collisions.pop();\n",
    "        this.state.collision = this.state.collisions[this.state.collisions.length - 1] || 'none';\n",
    "    }\n",
    "\n",
    "    /**\n",
    "     * Returns a formatted HTML string representing the player's state.\n",
    "     * Primary purpose is to display the state in a Jupyter notebook.\n",
    "     * @returns {string} - The formatted state HTML string.\n",
    "     */\n",
    "        toHTML() {\n",
    "            let collisions = (this.state.collisions.length > 0) ? this.state.collisions.slice().reverse().map((collision, index) => `  ${collision}`).join(', ')  : 'none';\n",
    "            return `\n",
    "            <div>\n",
    "                <strong>Collision Stack:</strong> ${collisions}\n",
    "                <br>\n",
    "                <strong>Player State:</strong>\n",
    "                <ul>\n",
    "                    <li>Collision: ${this.state.collision}</li>\n",
    "                    <li>Animation: ${this.state.animation}</li>\n",
    "                    <li>Direction: ${this.state.direction}</li>\n",
    "                    <li>Movement:\n",
    "                        <ul>\n",
    "                            <li>Up: ${this.state.movement.up}</li>\n",
    "                            <li>Down: ${this.state.movement.down}</li>\n",
    "                            <li>Left: ${this.state.movement.left}</li>\n",
    "                            <li>Right: ${this.state.movement.right}</li>\n",
    "                            <li>Falling: ${this.state.movement.falling}</li>\n",
    "                        </ul>\n",
    "                    </li>\n",
    "                    <li>Is Dying: ${this.state.isDying}</li>\n",
    "                </ul>\n",
    "            </div>\n",
    "            `;\n",
    "        }\n",
    "    \n",
    "}\n",
    "\n",
    "// Example usage\n",
    "const player = new Player();\n",
    "\n",
    "// Initial state\n",
    "// Jupyter JavaScript magic element is used to display the output, versus normal DOM\n",
    "element.append(\"Initial instance data for a player:\");\n",
    "element.append(player.toHTML());\n",
    "\n",
    "// Simulate Wall collision\n",
    "player.pushCollision('wall');\n",
    "player.state.movement = {up: false, down: false, left: true, right: false, falling: false};\n",
    "element.append(\"Wall collision simulation:\");\n",
    "element.append(player.toHTML());\n",
    "\n",
    "// Simulate JumpPlatform collision\n",
    "player.pushCollision('jumpPlatform');\n",
    "player.state.movement = {up: false, down: false, left: true, right: true, falling: false};\n",
    "element.append(\"JumpPlatform collision simulation:\");\n",
    "element.append(player.toHTML());\n",
    "\n",
    "// Pop back to the previous collision\n",
    "player.popCollision();\n",
    "element.append(\"Pop back to the previous collision (back 1):\");\n",
    "element.append(player.toHTML());\n",
    "\n",
    "// Pop back again to the previous collision\n",
    "player.popCollision();\n",
    "element.append(\"Pop back to the previous collision (back 2):\");\n",
    "element.append(player.toHTML());"
   ]
  },
  {
   "cell_type": "markdown",
   "metadata": {},
   "source": [
    "## Hack\n",
    "\n",
    "Create and Manage objects hack\n",
    "\n",
    "1. In this notebook combine concept of Object Literal and Object Instance.  Use Object Literal as an intiaizer for the Object Instance.\n",
    "2. Make an array of Player object instances four or five, give them health and power, ie speed, strength, ...\n",
    "    * Make a game loop to cycle through each of the objects\n",
    "    * Each pass through the loop have a random object battle with all other objects using a random power\n",
    "    * Lower health by 1 on battle, lower health by 10 for loss\n",
    "    * Provide a leader board output each round\n",
    "    * Kill objects if their health goes to zero or less\n",
    "\n",
    "You can work with pair/treo, but each of you should have a different concept  "
   ]
  },
  {
   "cell_type": "code",
   "execution_count": 29,
   "metadata": {
    "vscode": {
     "languageId": "javascript"
    }
   },
   "outputs": [
    {
     "data": {
      "application/javascript": "class Character {\n    constructor(name, hp, attack, speed) {\n      this.name = name;\n      this.hp = hp;\n      this.attack = attack;\n      this.speed = speed;\n      this.isAlive = true;\n    }\n\n    attackEnemy(target) {\n      if (!this.isAlive || !target.isAlive) return;\n\n      const damage = this.attack;\n      target.hp = target.hp - damage;\n\n      if (target.hp <= 0) {\n        target.hp = 0;\n        target.isAlive = false;\n        console.log(`${this.name} attacks ${target.name} for ${damage} damage. ${target.name} is defeated!`);\n      } else {\n        console.log(`${this.name} attacks ${target.name} for ${damage} damage. ${target.name} has ${target.hp}/${target.maxHp} HP left.`);\n      }\n    }\n\n    showStatus() {\n      return `${this.name}: ${this.hp} HP, Attack: ${this.attack}, Speed: ${this.speed}`;\n    }\n  }\n\n  class BattleGame {\n    constructor() {\n      this.fighters = [\n        new Character(\"Ligma\", 120, 15, 8),\n        new Character(\"Sigma\", 80, 20, 10),\n        new Character(\"TunTunTun\", 90, 12, 15),\n        new Character(\"Assasino\", 150, 10, 5),\n        new Character(\"yagsinavE\", 100, 18, 12)\n      ];\n\n      this.turnCount = 0;\n      this.battleOver = false;\n      this.champion = null;\n    }\n\n    startBattle() {\n      console.log(\"battle start\");\n\n      console.log(\"\\nstats:\");\n      this.fighters.forEach(fighter => {\n        console.log(fighter.showStatus());\n      });\n\n      while (true) {\n        this.turnCount++;\n        console.log(`\\n--- turn ${this.turnCount} ---`);\n\n        let aliveFighters = this.fighters.filter(fighter => fighter.isAlive);\n        aliveFighters.sort((a, b) => b.speed - a.speed);\n\n        for (let attacker of aliveFighters) {\n          if (!attacker.isAlive) continue;\n\n          let targets = this.fighters.filter(f => f.isAlive && f !== attacker);\n          if (targets.length === 0) {\n            this.champion = attacker;\n            this.battleOver = true;\n            break;\n          }\n\n          let target = targets[Math.floor(Math.random() * targets.length)];\n          attacker.attackEnemy(target);\n        }\n\n\n        let aliveCount = 0;\n        for (let f of this.fighters) {\n          if (f.isAlive) {\n            aliveCount++;\n            this.champion = f;\n          }\n        }\n\n        if (this.battleOver || aliveCount === 1) {\n          break;\n        }\n      }\n\n      console.log(`\\n${this.champion.name} wins the battle after ${this.turnCount} turns!`);\n      console.log(\"BATTLE OVER\");\n    }\n  }\n\n  const battle = new BattleGame();\n  battle.startBattle();\n",
      "text/plain": [
       "<IPython.core.display.Javascript object>"
      ]
     },
     "metadata": {},
     "output_type": "display_data"
    }
   ],
   "source": [
    "%%js\n",
    "class Character {\n",
    "    constructor(name, hp, attack, speed) {\n",
    "      this.name = name;\n",
    "      this.hp = hp;\n",
    "      this.attack = attack;\n",
    "      this.speed = speed;\n",
    "      this.isAlive = true;\n",
    "    }\n",
    "    \n",
    "    attackEnemy(target) {\n",
    "      if (!this.isAlive || !target.isAlive) return;\n",
    "      \n",
    "      const damage = this.attack;\n",
    "      target.hp = target.hp - damage;\n",
    "      \n",
    "      if (target.hp <= 0) {\n",
    "        target.hp = 0;\n",
    "        target.isAlive = false;\n",
    "        console.log(`${this.name} attacks ${target.name} for ${damage} damage. ${target.name} is defeated!`);\n",
    "      } else {\n",
    "        console.log(`${this.name} attacks ${target.name} for ${damage} damage. ${target.name} has ${target.hp}/${target.maxHp} HP left.`);\n",
    "      }\n",
    "    }\n",
    "    \n",
    "    showStatus() {\n",
    "      return `${this.name}: ${this.hp} HP, Attack: ${this.attack}, Speed: ${this.speed}`;\n",
    "    }\n",
    "  }\n",
    "  \n",
    "  class BattleGame {\n",
    "    constructor() {\n",
    "      this.fighters = [\n",
    "        new Character(\"Ligma\", 120, 15, 8),\n",
    "        new Character(\"Sigma\", 80, 20, 10),\n",
    "        new Character(\"TunTunTun\", 90, 12, 15),\n",
    "        new Character(\"Assasino\", 150, 10, 5),\n",
    "        new Character(\"yagsinavE\", 100, 18, 12)\n",
    "      ];\n",
    "      \n",
    "      this.turnCount = 0;\n",
    "      this.battleOver = false;\n",
    "      this.champion = null;\n",
    "    }\n",
    "    \n",
    "    startBattle() {\n",
    "      console.log(\"battle start\");\n",
    "      \n",
    "      console.log(\"\\nstats:\");\n",
    "      this.fighters.forEach(fighter => {\n",
    "        console.log(fighter.showStatus());\n",
    "      });\n",
    "      \n",
    "      while (true) {\n",
    "        this.turnCount++;\n",
    "        console.log(`\\n--- turn ${this.turnCount} ---`);\n",
    "        \n",
    "        let aliveFighters = this.fighters.filter(fighter => fighter.isAlive);\n",
    "        aliveFighters.sort((a, b) => b.speed - a.speed);\n",
    "        \n",
    "        for (let attacker of aliveFighters) {\n",
    "          if (!attacker.isAlive) continue;\n",
    "          \n",
    "          let targets = this.fighters.filter(f => f.isAlive && f !== attacker);\n",
    "          if (targets.length === 0) {\n",
    "            this.champion = attacker;\n",
    "            this.battleOver = true;\n",
    "            break;\n",
    "          }\n",
    "          \n",
    "          let target = targets[Math.floor(Math.random() * targets.length)];\n",
    "          attacker.attackEnemy(target);\n",
    "        }\n",
    "        \n",
    "        \n",
    "        let aliveCount = 0;\n",
    "        for (let f of this.fighters) {\n",
    "          if (f.isAlive) {\n",
    "            aliveCount++;\n",
    "            this.champion = f;\n",
    "          }\n",
    "        }\n",
    "        \n",
    "        if (this.battleOver || aliveCount === 1) {\n",
    "          break;\n",
    "        }\n",
    "      }\n",
    "      \n",
    "      console.log(`\\n${this.champion.name} wins the battle after ${this.turnCount} turns!`);\n",
    "      console.log(\"BATTLE OVER\");\n",
    "    }\n",
    "  }\n",
    "  \n",
    "  const battle = new BattleGame();\n",
    "  battle.startBattle();"
   ]
  },
  {
   "cell_type": "markdown",
   "metadata": {},
   "source": [
    "### below is the template for all the players' properties"
   ]
  },
  {
   "cell_type": "code",
   "execution_count": null,
   "metadata": {
    "vscode": {
     "languageId": "javascript"
    }
   },
   "outputs": [],
   "source": [
    "class Character {\n",
    "    constructor(name, hp, attack, speed) {\n",
    "      this.name = name;\n",
    "      this.maxHp = hp;\n",
    "      this.hp = hp;\n",
    "      this.attack = attack;\n",
    "      this.speed = speed;\n",
    "      this.isAlive = true;\n",
    "    }\n",
    "}\n",
    "    "
   ]
  },
  {
   "cell_type": "markdown",
   "metadata": {},
   "source": [
    "### Then we have the functions that allow the base \"gameplay\""
   ]
  },
  {
   "cell_type": "code",
   "execution_count": null,
   "metadata": {
    "vscode": {
     "languageId": "javascript"
    }
   },
   "outputs": [],
   "source": [
    "attackEnemy(target) {\n",
    "    if (!this.isAlive || !target.isAlive) return;\n",
    "    \n",
    "    const damage = this.attack;\n",
    "    target.hp = target.hp - damage;\n",
    "    \n",
    "    if (target.hp <= 0) {\n",
    "      target.hp = 0;\n",
    "      target.isAlive = false;\n",
    "      console.log(`${this.name} attacks ${target.name} for ${damage} damage. ${target.name} is defeated!`);\n",
    "    } else {\n",
    "      console.log(`${this.name} attacks ${target.name} for ${damage} damage. ${target.name} has ${target.hp}/${target.maxHp} HP left.`);\n",
    "    }\n",
    "  }"
   ]
  },
  {
   "cell_type": "markdown",
   "metadata": {},
   "source": [
    "### The list of characters"
   ]
  },
  {
   "cell_type": "code",
   "execution_count": null,
   "metadata": {
    "vscode": {
     "languageId": "javascript"
    }
   },
   "outputs": [],
   "source": [
    "constructor() {\n",
    "    this.fighters = [\n",
    "      new Character(\"Ligma\", 120, 15, 8),\n",
    "      new Character(\"Sigma\", 80, 20, 10),\n",
    "      new Character(\"TunTunTun\", 90, 12, 15),\n",
    "      new Character(\"Assasino\", 150, 10, 5),\n",
    "      new Character(\"yagsinavE\", 100, 18, 12)\n",
    "    ];"
   ]
  },
  {
   "cell_type": "markdown",
   "metadata": {},
   "source": [
    "### Sorting the fighters based on speed for the turns"
   ]
  },
  {
   "cell_type": "code",
   "execution_count": null,
   "metadata": {
    "vscode": {
     "languageId": "javascript"
    }
   },
   "outputs": [],
   "source": [
    "let aliveFighters = this.fighters.filter(fighter => fighter.isAlive);\n",
    "aliveFighters.sort((a, b) => b.speed - a.speed);"
   ]
  }
 ],
 "metadata": {
  "kernelspec": {
   "display_name": "Python 3",
   "language": "python",
   "name": "python3"
  },
  "language_info": {
   "codemirror_mode": {
    "name": "ipython",
    "version": 3
   },
   "file_extension": ".py",
   "mimetype": "text/x-python",
   "name": "python",
   "nbconvert_exporter": "python",
   "pygments_lexer": "ipython3",
   "version": "3.12.10"
  }
 },
 "nbformat": 4,
 "nbformat_minor": 2
}
