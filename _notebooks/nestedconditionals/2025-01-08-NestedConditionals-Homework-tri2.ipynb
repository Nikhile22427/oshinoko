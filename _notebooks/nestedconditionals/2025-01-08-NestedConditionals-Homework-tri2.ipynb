{
 "cells": [
  {
   "cell_type": "raw",
   "metadata": {
    "vscode": {
     "languageId": "raw"
    }
   },
   "source": [
    "---\n",
    "layout: post\n",
    "title: Nested Conditionals, Homework\n",
    "description:  Homework for nested conditionals\n",
    "type: issues \n",
    "comments: true\n",
    "---"
   ]
  },
  {
   "cell_type": "markdown",
   "metadata": {},
   "source": [
    "### Homework Objectives\n",
    "\n",
    "You and your friend want to do different things at the amusement park. To decide, you do a coin flip. Heads means that you get to choose where to go and tails means that your friend gets to choose. If you go on a ride, be sure to check if you are the right height and have enough tickets, and if you go to a food stand, make sure that you have enough money and that the food is in stock. Be creative, and make sure to use nested conditionals!"
   ]
  },
  {
   "cell_type": "markdown",
   "metadata": {},
   "source": [
    "### Instructions\n",
    "\n",
    "1) Create a JavaScript file (Ex. insertName.js)\n",
    "\n",
    "2) Plan out what you will be doing and make variables for the necessary things. There will be a coin flip, so make a variable for that. If there are rides, make a value for the amount of tickets the person has and what height they are. If they go to a food stand, you can make a variable for the amount of money that you have and if the food is in stock.\n",
    "\n",
    "3) Use Math.random() for the coin flip. This generates a number between 0 and 1, so then you multiply this value by 2 and put it inside Math.floor() to round down and get either 0 or 1. Make this the coin flip variable.\n",
    "\n",
    "4) Use an if statement to check what the result of the coin flip was and use console.log to print out a statement to see who won or lost the coin flip. Along with that, print out where they are going next.\n",
    "\n",
    "5) Use more if statements inside of if statements to check if the person can do what they want to do. (Are they tall enough, do they have enough money, etc.)\n",
    "\n",
    "6) After all the checks, print out a result of what happened. If you get stuck, you can look at the examples in the popcorn hacks. Please don't copy and paste, though! \n"
   ]
  },
  {
   "cell_type": "code",
   "execution_count": 46,
   "metadata": {
    "vscode": {
     "languageId": "javascript"
    }
   },
   "outputs": [
    {
     "data": {
      "application/javascript": "let coinflip = Math.floor(Math.random()* 2)\nconsole.log(coinflip)\nlet churroStock = false\nlet popcornStock = true\nlet Person\nlet person1money \nlet person2money \nif (coinflip === 1) {\n    Person = \"dumbahh 1\"\n} else if (coinflip === 0) {\n    Person = \"dumbahh 2\"\n}\nconsole.log(Person)\n\n\nfunction Foodinstock(food) {\n    if (food = \"churro\") {\n        if (churroStock === true) {\n            console.log(\"wow! you have a churro now\")\n        } else if (churroStock === false) {\n            console.log(\"nah u cant have it for unkown reasons\")\n        }\n    } else if (food === \"popcorn\") {\n        if (popcornStock === true) {\n            console.log(\"wow! you have a popcorn\")\n        } else {\n            console.log(\"nah no popcorn for u \")\n        }\n    } \n}\n\nfunction Enoughmoney(money) {\n    if (Person = \"dumbahh 1\") {\n        if (money === 80) {\n            console.log(\"wow! you can go on the roller coaster\")\n        } else if (person1money === 50 ) {\n            console.log(\"you can only go on that 1 ride thats all the way in the back of the park and is 500 years old\")\n        } else  if (money === 0) {\n            console.log(\"get more money\")\n        }\n    } else if (Person === \"dumbahh 2\") {\n        if (money === 60) {\n            console.log(\"wow! you can go on the ferris wheel\")\n        } else if (money === 40 ) {\n            console.log(\"you can only go on that 1 ride thats all the way in the back of the park and is 500 years old\")\n        } else  if (money === 0) {\n            console.log(\"get more money\")\n        }\n    }\n}\n\nif (Person === \"dumbahh 1\") {\n    Foodinstock(\"churro\")\n    Enoughmoney(0)\n} else if (Person === \"dumbahh 2\") {\n    Foodinstock(\"popcorn\")\n    Enoughmoney(40)\n}\n\n",
      "text/plain": [
       "<IPython.core.display.Javascript object>"
      ]
     },
     "metadata": {},
     "output_type": "display_data"
    }
   ],
   "source": [
    "%%js\n",
    "let coinflip = Math.floor(Math.random()* 2)\n",
    "console.log(coinflip)\n",
    "let churroStock = false\n",
    "let popcornStock = true\n",
    "let Person\n",
    "let person1money \n",
    "let person2money \n",
    "if (coinflip === 1) {\n",
    "    Person = \"dumbahh 1\"\n",
    "} else if (coinflip === 0) {\n",
    "    Person = \"dumbahh 2\"\n",
    "}\n",
    "console.log(Person)\n",
    "\n",
    "\n",
    "function Foodinstock(food) {\n",
    "    if (food = \"churro\") {\n",
    "        if (churroStock === true) {\n",
    "            console.log(\"wow! you have a churro now\")\n",
    "        } else if (churroStock === false) {\n",
    "            console.log(\"nah u cant have it for unkown reasons\")\n",
    "        }\n",
    "    } else if (food === \"popcorn\") {\n",
    "        if (popcornStock === true) {\n",
    "            console.log(\"wow! you have a popcorn\")\n",
    "        } else {\n",
    "            console.log(\"nah no popcorn for u \")\n",
    "        }\n",
    "    } \n",
    "}\n",
    "\n",
    "function Enoughmoney(money) {\n",
    "    if (Person = \"dumbahh 1\") {\n",
    "        if (money === 80) {\n",
    "            console.log(\"wow! you can go on the roller coaster\")\n",
    "        } else if (person1money === 50 ) {\n",
    "            console.log(\"you can only go on that 1 ride thats all the way in the back of the park and is 500 years old\")\n",
    "        } else  if (money === 0) {\n",
    "            console.log(\"get more money\")\n",
    "        }\n",
    "    } else if (Person === \"dumbahh 2\") {\n",
    "        if (money === 60) {\n",
    "            console.log(\"wow! you can go on the ferris wheel\")\n",
    "        } else if (money === 40 ) {\n",
    "            console.log(\"you can only go on that 1 ride thats all the way in the back of the park and is 500 years old\")\n",
    "        } else  if (money === 0) {\n",
    "            console.log(\"get more money\")\n",
    "        }\n",
    "    }\n",
    "}\n",
    "\n",
    "if (Person === \"dumbahh 1\") {\n",
    "    Foodinstock(\"churro\")\n",
    "    Enoughmoney(0)\n",
    "} else if (Person === \"dumbahh 2\") {\n",
    "    Foodinstock(\"popcorn\")\n",
    "    Enoughmoney(40)\n",
    "}\n",
    "\n"
   ]
  }
 ],
 "metadata": {
  "kernelspec": {
   "display_name": "venv",
   "language": "python",
   "name": "python3"
  },
  "language_info": {
   "codemirror_mode": {
    "name": "ipython",
    "version": 3
   },
   "file_extension": ".py",
   "mimetype": "text/x-python",
   "name": "python",
   "nbconvert_exporter": "python",
   "pygments_lexer": "ipython3",
   "version": "3.13.0"
  }
 },
 "nbformat": 4,
 "nbformat_minor": 2
}
