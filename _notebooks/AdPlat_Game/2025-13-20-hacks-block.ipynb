{
 "cells": [
  {
   "cell_type": "raw",
   "metadata": {
    "vscode": {
     "languageId": "raw"
    }
   },
   "source": [
    "---\n",
    "toc: true\n",
    "layout: post\n",
    "title: Hack Blog\n",
    "description: Hacks I completed/helped on\n",
    "permalink: /AdPlat/HackBlog/\n"
   ]
  },
  {
   "cell_type": "markdown",
   "metadata": {},
   "source": [
    "<h1>Hacks</h1>"
   ]
  },
  {
   "cell_type": "markdown",
   "metadata": {
    "vscode": {
     "languageId": "plaintext"
    }
   },
   "source": [
    "<h2>Hack 4</h2>"
   ]
  },
  {
   "cell_type": "markdown",
   "metadata": {},
   "source": [
    "- Started the process of turning the absolute movement value into a sprite data value\n",
    "- Made V1 using editing reset value "
   ]
  },
  {
   "cell_type": "code",
   "execution_count": null,
   "metadata": {
    "vscode": {
     "languageId": "javascript"
    }
   },
   "outputs": [],
   "source": [
    "updateVelocityAndDirection() {\n",
    "    this.velocity.x = 3; // here it should automatically reset to 3, giving the illusion of auto movement\n",
    "    this.velocity.y = 0;\n",
    "}"
   ]
  },
  {
   "cell_type": "code",
   "execution_count": null,
   "metadata": {
    "vscode": {
     "languageId": "javascript"
    }
   },
   "outputs": [],
   "source": [
    "/**\n",
    " * @property {number} xVelocity - The velocity of the object along the x-axis.\n",
    " * @property {number} yVelocity - The velocity of the object along the y-axis.\n",
    " * @property {number} sVELOCITYY - The starting velocity of the object along the y-axis. //this one\n",
    " * @property {number} sVELOCITYX - The starting velocity of the object along the x-axis. //this one\n",
    " */"
   ]
  },
  {
   "cell_type": "markdown",
   "metadata": {},
   "source": [
    "- for V2 made another class file for snowspeeder so that movement changes only affected it\n",
    "- noticed that velocity is set to 0 on key up so i removed the function that resets velocity to 0 to simulate auto movement"
   ]
  },
  {
   "cell_type": "code",
   "execution_count": null,
   "metadata": {
    "vscode": {
     "languageId": "javascript"
    }
   },
   "outputs": [],
   "source": [
    "handleKeyUp({ keyCode }) {\n",
    "    // remove the lifted key from the active keys array\n",
    "    if (keyCode in this.pressedKeys) {\n",
    "        delete this.pressedKeys[keyCode];\n",
    "    }\n",
    "    // adjust the velocity and direction based on the remaining keys\n",
    "   // this.updateVelocityAndDirection(); would normally be here\n",
    "}"
   ]
  },
  {
   "cell_type": "markdown",
   "metadata": {},
   "source": [
    "<h2>Hack 2</h2>"
   ]
  },
  {
   "cell_type": "markdown",
   "metadata": {},
   "source": [
    "- helped debug hack\n",
    "- issues in matching src names, needed to be chillguy2 not chillguy"
   ]
  },
  {
   "cell_type": "code",
   "execution_count": null,
   "metadata": {
    "vscode": {
     "languageId": "javascript"
    }
   },
   "outputs": [],
   "source": [
    "const sprite_src_chillguy2 = path + \"/images/gamify/chillguyv2.png\"; //chill guy playere data\n",
    "    const CHILLGUY2_SCALE_FACTOR = 5;\n",
    "    const sprite_data_chillguy2 = {\n",
    "        id: 'Chill Guy',\n",
    "        greeting: \"Hi, I am Chill Guy, the desert wanderer. I am looking for wisdom and adventure!\",\n",
    "        src: sprite_src_chillguy2, // was originally chillguy\n",
    "        SCALE_FACTOR: CHILLGUY2_SCALE_FACTOR, //was originally chillguy\n",
    "        STEP_FACTOR: 1000,\n",
    "        ANIMATION_RATE: 50,\n",
    "        INIT_POSITION: { x: 0, y: height - (height / CHILLGUY2_SCALE_FACTOR) },\n",
    "    }\n",
    "    // fixed all mismatching names"
   ]
  }
 ],
 "metadata": {
  "language_info": {
   "name": "python"
  }
 },
 "nbformat": 4,
 "nbformat_minor": 2
}
